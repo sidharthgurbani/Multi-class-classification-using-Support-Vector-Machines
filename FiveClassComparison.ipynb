{
 "cells": [
  {
   "cell_type": "code",
   "execution_count": 27,
   "metadata": {},
   "outputs": [],
   "source": [
    "import numpy as np\n",
    "from sklearn import preprocessing, neighbors, svm\n",
    "from sklearn.model_selection import cross_validate, train_test_split\n",
    "import pandas as pd\n",
    "from scipy.io import loadmat, savemat\n",
    "import time\n",
    "%matplotlib inline\n",
    "import matplotlib.pyplot as plt"
   ]
  },
  {
   "cell_type": "code",
   "execution_count": 28,
   "metadata": {},
   "outputs": [],
   "source": [
    "FiveClassTrainingData = loadmat('FiveClassTrainingData.mat')\n",
    "FiveClassTestData = loadmat('FiveClassTestData.mat')"
   ]
  },
  {
   "cell_type": "code",
   "execution_count": 29,
   "metadata": {},
   "outputs": [],
   "source": [
    "# Five Class Dataset\n",
    "X_train = FiveClassTrainingData['X_train']\n",
    "y_train = FiveClassTrainingData['y_train']\n",
    "\n",
    "X_test = FiveClassTestData['X_test']\n",
    "y_test = FiveClassTestData['y_test']"
   ]
  },
  {
   "cell_type": "markdown",
   "metadata": {},
   "source": [
    "# Plot of the training data #"
   ]
  },
  {
   "cell_type": "code",
   "execution_count": 30,
   "metadata": {},
   "outputs": [
    {
     "data": {
      "text/plain": [
       "<matplotlib.legend.Legend at 0x1a1f54db00>"
      ]
     },
     "execution_count": 30,
     "metadata": {},
     "output_type": "execute_result"
    },
    {
     "data": {
      "image/png": "[encoded data removed]",
      "text/plain": [
       "<Figure size 432x288 with 1 Axes>"
      ]
     },
     "metadata": {
      "needs_background": "light"
     },
     "output_type": "display_data"
    }
   ],
   "source": [
    "\n",
    "plt.plot(X_test[:200,0], X_test[:200,1], 'o', label='Class label = A', color='yellow')\n",
    "plt.plot(X_test[200:400,0], X_test[200:400,1], 'o', label='Class label = B', color='red')\n",
    "plt.plot(X_test[400:600,0], X_test[400:600,1], 'o', label='Class label = C', color='blue')\n",
    "plt.plot(X_test[600:800,0], X_test[600:800,1], 'o', label='Class label = C', color='black')\n",
    "plt.plot(X_test[800:,0], X_test[800:,1], 'o', label='Class label = C', color='green')\n",
    "plt.xlabel(\"Test data\")\n",
    "plt.legend(numpoints=1)"
   ]
  },
  {
   "cell_type": "markdown",
   "metadata": {},
   "source": [
    "# Split training data for every class to train the binary classifers for each set of 2 classes #"
   ]
  },
  {
   "cell_type": "code",
   "execution_count": 31,
   "metadata": {},
   "outputs": [],
   "source": [
    "\n",
    "# Class 1\n",
    "X_train1 = X_train[:800,:]\n",
    "y_train1 = y_train[:800,:]\n",
    "\n",
    "# Class 2\n",
    "X_train2 = X_train[800:1600,:]\n",
    "y_train2 = y_train[800:1600,:]\n",
    "\n",
    "# Class 3\n",
    "X_train3 = X_train[1600:2400,:]\n",
    "y_train3 = y_train[1600:2400,:]\n",
    "\n",
    "# Class 4\n",
    "X_train4 = X_train[2400:3200,:]\n",
    "y_train4 = y_train[2400:3200,:]\n",
    "\n",
    "# Class 5\n",
    "X_train5 = X_train[3200:,:]\n",
    "y_train5 = y_train[3200:,:]\n",
    "\n",
    "\n",
    "## Prepare the training data for 5 class classification taking 2 at a time ##\n",
    "\n",
    "# For Class 1 and 2\n",
    "X_train12 = np.vstack((X_train1, X_train2))\n",
    "y_train12 = np.sign(np.vstack((y_train1, y_train2)) - 1.5*np.ones((1600,1)))\n",
    "\n",
    "# For Class 1 and 3\n",
    "X_train13 = np.vstack((X_train1, X_train3))\n",
    "y_train13 = np.sign(np.vstack((y_train1, y_train3)) - 2*np.ones((1600,1)))\n",
    "\n",
    "# For Class 1 and 4\n",
    "X_train14 = np.vstack((X_train1, X_train4))\n",
    "y_train14 = np.sign(np.vstack((y_train1, y_train4)) - 2.5*np.ones((1600,1)))\n",
    "\n",
    "# For Class 1 and 5\n",
    "X_train15 = np.vstack((X_train1, X_train5))\n",
    "y_train15 = np.sign(np.vstack((y_train1, y_train5)) - 3*np.ones((1600,1)))\n",
    "\n",
    "# For Class 2 and 3\n",
    "X_train23 = np.vstack((X_train2, X_train3))\n",
    "y_train23 = np.sign(np.vstack((y_train2, y_train3)) - 2.5*np.ones((1600,1)))\n",
    "\n",
    "# For Class 2 and 4\n",
    "X_train24 = np.vstack((X_train2, X_train4))\n",
    "y_train24 = np.sign(np.vstack((y_train2, y_train4)) - 3*np.ones((1600,1)))\n",
    "\n",
    "# For Class 2 and 5\n",
    "X_train25 = np.vstack((X_train2, X_train5))\n",
    "y_train25 = np.sign(np.vstack((y_train2, y_train5)) - 3.5*np.ones((1600,1)))\n",
    "\n",
    "# For Class 3 and 4\n",
    "X_train34 = np.vstack((X_train3, X_train4))\n",
    "y_train34 = np.sign(np.vstack((y_train3, y_train4)) - 3.5*np.ones((1600,1)))\n",
    "\n",
    "# For Class 3 and 5\n",
    "X_train35 = np.vstack((X_train3, X_train5))\n",
    "y_train35 = np.sign(np.vstack((y_train3, y_train5)) - 4*np.ones((1600,1)))\n",
    "\n",
    "# For Class 4 and 5\n",
    "X_train45 = np.vstack((X_train4, X_train5))\n",
    "y_train45 = np.sign(np.vstack((y_train4, y_train5)) - 4.5*np.ones((1600,1)))\n"
   ]
  },
  {
   "cell_type": "markdown",
   "metadata": {},
   "source": [
    "# Create and train the SVM models for DAGSVM and One-Vs-One #"
   ]
  },
  {
   "cell_type": "code",
   "execution_count": 32,
   "metadata": {},
   "outputs": [
    {
     "name": "stderr",
     "output_type": "stream",
     "text": [
      "/Users/sidharthgurbani/anaconda3/lib/python3.7/site-packages/sklearn/utils/validation.py:724: DataConversionWarning: A column-vector y was passed when a 1d array was expected. Please change the shape of y to (n_samples, ), for example using ravel().\n",
      "  y = column_or_1d(y, warn=True)\n",
      "/Users/sidharthgurbani/anaconda3/lib/python3.7/site-packages/sklearn/utils/validation.py:724: DataConversionWarning: A column-vector y was passed when a 1d array was expected. Please change the shape of y to (n_samples, ), for example using ravel().\n",
      "  y = column_or_1d(y, warn=True)\n",
      "/Users/sidharthgurbani/anaconda3/lib/python3.7/site-packages/sklearn/utils/validation.py:724: DataConversionWarning: A column-vector y was passed when a 1d array was expected. Please change the shape of y to (n_samples, ), for example using ravel().\n",
      "  y = column_or_1d(y, warn=True)\n",
      "/Users/sidharthgurbani/anaconda3/lib/python3.7/site-packages/sklearn/utils/validation.py:724: DataConversionWarning: A column-vector y was passed when a 1d array was expected. Please change the shape of y to (n_samples, ), for example using ravel().\n",
      "  y = column_or_1d(y, warn=True)\n",
      "/Users/sidharthgurbani/anaconda3/lib/python3.7/site-packages/sklearn/utils/validation.py:724: DataConversionWarning: A column-vector y was passed when a 1d array was expected. Please change the shape of y to (n_samples, ), for example using ravel().\n",
      "  y = column_or_1d(y, warn=True)\n",
      "/Users/sidharthgurbani/anaconda3/lib/python3.7/site-packages/sklearn/utils/validation.py:724: DataConversionWarning: A column-vector y was passed when a 1d array was expected. Please change the shape of y to (n_samples, ), for example using ravel().\n",
      "  y = column_or_1d(y, warn=True)\n",
      "/Users/sidharthgurbani/anaconda3/lib/python3.7/site-packages/sklearn/utils/validation.py:724: DataConversionWarning: A column-vector y was passed when a 1d array was expected. Please change the shape of y to (n_samples, ), for example using ravel().\n",
      "  y = column_or_1d(y, warn=True)\n",
      "/Users/sidharthgurbani/anaconda3/lib/python3.7/site-packages/sklearn/utils/validation.py:724: DataConversionWarning: A column-vector y was passed when a 1d array was expected. Please change the shape of y to (n_samples, ), for example using ravel().\n",
      "  y = column_or_1d(y, warn=True)\n",
      "/Users/sidharthgurbani/anaconda3/lib/python3.7/site-packages/sklearn/utils/validation.py:724: DataConversionWarning: A column-vector y was passed when a 1d array was expected. Please change the shape of y to (n_samples, ), for example using ravel().\n",
      "  y = column_or_1d(y, warn=True)\n",
      "/Users/sidharthgurbani/anaconda3/lib/python3.7/site-packages/sklearn/utils/validation.py:724: DataConversionWarning: A column-vector y was passed when a 1d array was expected. Please change the shape of y to (n_samples, ), for example using ravel().\n",
      "  y = column_or_1d(y, warn=True)\n"
     ]
    }
   ],
   "source": [
    "\n",
    "start_train_time_dagsvm_ovo = time.time()\n",
    "\n",
    "# For Class 1 and 2\n",
    "svm12 = svm.SVC(kernel='linear')\n",
    "svm12.fit(X_train12, y_train12)\n",
    "\n",
    "# For Class 1 and 3\n",
    "svm13 = svm.SVC(kernel='linear')\n",
    "svm13.fit(X_train13, y_train13)\n",
    "\n",
    "# For Class 1 and 4\n",
    "svm14 = svm.SVC(kernel='linear')\n",
    "svm14.fit(X_train14, y_train14)\n",
    "\n",
    "# For Class 1 and 5\n",
    "svm15 = svm.SVC(kernel='linear')\n",
    "svm15.fit(X_train15, y_train15)\n",
    "\n",
    "# For Class 2 and 3\n",
    "svm23 = svm.SVC(kernel='linear')\n",
    "svm23.fit(X_train23, y_train23)\n",
    "\n",
    "# For Class 2 and 4\n",
    "svm24 = svm.SVC(kernel='linear')\n",
    "svm24.fit(X_train24, y_train24)\n",
    "\n",
    "# For Class 2 and 5\n",
    "svm25 = svm.SVC(kernel='linear')\n",
    "svm25.fit(X_train25, y_train25)\n",
    "\n",
    "# For Class 3 and 4\n",
    "svm34 = svm.SVC(kernel='linear')\n",
    "svm34.fit(X_train34, y_train34)\n",
    "\n",
    "# For Class 3 and 5\n",
    "svm35 = svm.SVC(kernel='linear')\n",
    "svm35.fit(X_train35, y_train35)\n",
    "\n",
    "# For Class 4 and 5\n",
    "svm45 = svm.SVC(kernel='linear')\n",
    "svm45.fit(X_train45, y_train45)\n",
    "\n",
    "end_train_time_dagsvm_ovo = time.time()\n",
    "\n",
    "total_train_time_dagsvm_ovo =  end_train_time_dagsvm_ovo - start_train_time_dagsvm_ovo"
   ]
  },
  {
   "cell_type": "markdown",
   "metadata": {},
   "source": [
    "# Testing DAGSVM model for classification #"
   ]
  },
  {
   "cell_type": "code",
   "execution_count": 33,
   "metadata": {},
   "outputs": [
    {
     "name": "stdout",
     "output_type": "stream",
     "text": [
      "Number of errors are: 177 and error_rate is: 0.177\n",
      "Total time for training for DAGSVM is: 0.0424802303314209\n",
      "Total time for testing of DAGSVM is: 0.23137378692626953\n"
     ]
    }
   ],
   "source": [
    "\n",
    "y_test_hat_dagsvm = np.zeros((y_test.shape))\n",
    "\n",
    "start_test_time_dagsvm = time.time()\n",
    "for i in range(y_test.shape[0]):\n",
    "    \n",
    "    # classifier for 1v5\n",
    "    if svm15.predict(X_test[i:i+1]) == 1:\n",
    "        \n",
    "        # classifier for 2v5\n",
    "        if svm25.predict(X_test[i:i+1]) == 1:\n",
    "            \n",
    "            # classifier for 3v5\n",
    "            if svm35.predict(X_test[i:i+1]) == 1:\n",
    "                \n",
    "                # classifier for 4v5\n",
    "                if svm45.predict(X_test[i:i+1]) == 1:\n",
    "                    y_test_hat_dagsvm[i] = 5\n",
    "                else:\n",
    "                    y_test_hat_dagsvm[i] = 4\n",
    "            else:\n",
    "                \n",
    "                # classifier for 3v4\n",
    "                if svm34.predict(X_test[i:i+1]) == 1:\n",
    "                    y_test_hat_dagsvm[i] = 4\n",
    "                else:\n",
    "                    y_test_hat_dagsvm[i] = 3\n",
    "        else:\n",
    "            \n",
    "            # classifier for 2v4\n",
    "            if svm24.predict(X_test[i:i+1]) == 1:\n",
    "                \n",
    "                # classifier for 3v4\n",
    "                if svm34.predict(X_test[i:i+1]) == 1:\n",
    "                    y_test_hat_dagsvm[i] = 4\n",
    "                else:\n",
    "                    y_test_hat_dagsvm[i] = 3\n",
    "            else:\n",
    "                \n",
    "                #classifier for 2v3\n",
    "                if svm23.predict(X_test[i:i+1]) == 1:\n",
    "                    y_test_hat_dagsvm[i] = 3\n",
    "                else:\n",
    "                    y_test_hat_dagsvm[i] = 2\n",
    "    else:\n",
    "        \n",
    "        # classifier for 1v4\n",
    "        if svm14.predict(X_test[i:i+1]) == 1:\n",
    "            \n",
    "            # classifier for 2v4\n",
    "            if svm24.predict(X_test[i:i+1]) == 1:\n",
    "                \n",
    "                # classifier for 3v4\n",
    "                if svm45.predict(X_test[i:i+1]) == 1:\n",
    "                    y_test_hat_dagsvm[i] = 4\n",
    "                else:\n",
    "                    y_test_hat_dagsvm[i] = 3\n",
    "            else:\n",
    "                \n",
    "                # classifier for 2v3\n",
    "                if svm23.predict(X_test[i:i+1]) == 1:\n",
    "                    y_test_hat_dagsvm[i] = 3\n",
    "                else:\n",
    "                    y_test_hat_dagsvm[i] = 2\n",
    "        else:\n",
    "            \n",
    "            # classifier for 1v3\n",
    "            if svm13.predict(X_test[i:i+1]) == 1:\n",
    "                \n",
    "                # classifier for 2v3\n",
    "                if svm23.predict(X_test[i:i+1]) == 1:\n",
    "                    y_test_hat_dagsvm[i] = 3\n",
    "                else:\n",
    "                    y_test_hat_dagsvm[i] = 2\n",
    "            else:\n",
    "                \n",
    "                #classifier for 1v2\n",
    "                if svm12.predict(X_test[i:i+1]) == 1:\n",
    "                    y_test_hat_dagsvm[i] = 2\n",
    "                else:\n",
    "                    y_test_hat_dagsvm[i] = 1\n",
    "\n",
    "end_test_time_dagsvm = time.time()\n",
    "total_test_time_dagsvm = end_test_time_dagsvm - start_test_time_dagsvm\n",
    "                    \n",
    "error_vec_dagsvm = [0 if i[0]==i[1] else 1 for i in np.hstack((y_test_hat_dagsvm, y_test))]\n",
    "\n",
    "error_rate_dagsvm = sum(error_vec_dagsvm)/y_test_hat_dagsvm.shape[0]\n",
    "\n",
    "print(\"Number of errors are: \" + str(sum(error_vec_dagsvm)) + \" and error_rate is: \" + str(error_rate_dagsvm))\n",
    "print(\"Total time for training for DAGSVM is: \" + str(total_train_time_dagsvm_ovo))\n",
    "print(\"Total time for testing of DAGSVM is: \" + str(total_test_time_dagsvm))"
   ]
  },
  {
   "cell_type": "markdown",
   "metadata": {},
   "source": [
    "# Testing one-vs-one method for classification #"
   ]
  },
  {
   "cell_type": "code",
   "execution_count": 34,
   "metadata": {},
   "outputs": [
    {
     "name": "stdout",
     "output_type": "stream",
     "text": [
      "Number of errors are: 60 and error_rate is: 0.06\n",
      "Total time for training for One-against-One is: 0.0424802303314209\n",
      "Total time for testing for One-against-One is: 0.5099871158599854\n"
     ]
    }
   ],
   "source": [
    "\n",
    "# Here we test all the classifers before hand\n",
    "\n",
    "start_test_time_ovo = time.time()\n",
    "y_test_hat_ovo = np.zeros((y_test.shape))\n",
    "\n",
    "for i in range(y_test_hat_ovo.shape[0]):\n",
    "    \n",
    "    # Predicition for 1 and 2\n",
    "    y_test_hat_1 = svm12.predict(X_test[i:i+1])\n",
    "\n",
    "    # Predicition for 1 and 3\n",
    "    y_test_hat_2 = svm13.predict(X_test[i:i+1])\n",
    "\n",
    "    # Predicition for 1 and 4\n",
    "    y_test_hat_3 = svm14.predict(X_test[i:i+1])\n",
    "\n",
    "    # Predicition for 1 and 5\n",
    "    y_test_hat_4 = svm15.predict(X_test[i:i+1])\n",
    "\n",
    "    # Predicition for 2 and 3\n",
    "    y_test_hat_5 = svm23.predict(X_test[i:i+1])\n",
    "\n",
    "    # Predicition for 2 and 4\n",
    "    y_test_hat_6 = svm24.predict(X_test[i:i+1])\n",
    "\n",
    "    # Predicition for 2 and 5\n",
    "    y_test_hat_7 = svm25.predict(X_test[i:i+1])\n",
    "\n",
    "    # Predicition for 3 and 4\n",
    "    y_test_hat_8 = svm34.predict(X_test[i:i+1])\n",
    "\n",
    "    # Predicition for 3 and 5\n",
    "    y_test_hat_9 = svm35.predict(X_test[i:i+1])\n",
    "\n",
    "    # Predicition for 4 and 5\n",
    "    y_test_hat_10 = svm45.predict(X_test[i:i+1])\n",
    "    \n",
    "    # This is like a voting system to decide which class the prediction will be classified as!!\n",
    "    \n",
    "    if (y_test_hat_1 == -1) and (y_test_hat_2 == -1) and (y_test_hat_3 == -1) and (y_test_hat_4 == -1):\n",
    "        y_test_hat_ovo[i,0] = 1\n",
    "        \n",
    "    elif (y_test_hat_1 == 1) and (y_test_hat_5 == -1) and (y_test_hat_6 == -1) and (y_test_hat_7 == -1):\n",
    "        y_test_hat_ovo[i,0] = 2\n",
    "        \n",
    "    elif (y_test_hat_2 == 1) and (y_test_hat_5 == 1) and (y_test_hat_8 == -1) and (y_test_hat_9 == -1):\n",
    "        y_test_hat_ovo[i,0] = 3\n",
    "        \n",
    "    elif (y_test_hat_3 == 1) and (y_test_hat_6 == 1) and (y_test_hat_8 == 1) and (y_test_hat_10 == -1):\n",
    "        y_test_hat_ovo[i,0] = 4\n",
    "        \n",
    "    elif (y_test_hat_4 == 1) and (y_test_hat_7 == 1) and (y_test_hat_9 == 1) and (y_test_hat_10 == 1):\n",
    "        y_test_hat_ovo[i,0] = 5\n",
    "\n",
    "\n",
    "end_test_time_ovo = time.time()\n",
    "total_test_time_ovo = end_test_time_ovo - start_test_time_ovo        \n",
    "\n",
    "error_vec_ovo = [0 if i[0]==i[1] else 1 for i in np.hstack((y_test_hat_ovo, y_test))]\n",
    "\n",
    "error_rate_ovo = sum(error_vec_ovo)/y_test_hat_ovo.shape[0]\n",
    "\n",
    "print(\"Number of errors are: \" + str(sum(error_vec_ovo)) + \" and error_rate is: \" + str(error_rate_ovo))\n",
    "print(\"Total time for training for One-against-One is: \" + str(total_train_time_dagsvm_ovo))\n",
    "print(\"Total time for testing for One-against-One is: \" + str(total_test_time_ovo))"
   ]
  },
  {
   "cell_type": "markdown",
   "metadata": {},
   "source": [
    "# Prepare training data for Binary Tree SVM #"
   ]
  },
  {
   "cell_type": "code",
   "execution_count": 35,
   "metadata": {},
   "outputs": [],
   "source": [
    "\n",
    "# For class 1,2,3 and 4,5\n",
    "X_train12345 = np.vstack((X_train1, X_train2, X_train3, X_train4, X_train5))\n",
    "y_train12345 = np.sign(np.vstack((y_train1, y_train2, y_train3, y_train4, y_train5)) - 3.5*np.ones((4000,1)))\n",
    "\n",
    "# For class 1,2 and 3\n",
    "X_train123 = np.vstack((X_train1, X_train2, X_train3))\n",
    "y_train123 = np.sign(np.vstack((y_train1, y_train2, y_train3)) - 2.5*np.ones((2400,1)))\n",
    "\n",
    "# For class 4 and 5\n",
    "X_train45 = np.vstack((X_train4, X_train5))\n",
    "y_train45 = np.sign(np.vstack((y_train4, y_train5)) - 4.5*np.ones((1600,1)))\n",
    "\n",
    "# For class 1 and 2\n",
    "X_train12 = np.vstack((X_train1, X_train2))\n",
    "y_train12 = np.sign(np.vstack((y_train1, y_train2)) - 1.5*np.ones((1600,1)))\n"
   ]
  },
  {
   "cell_type": "markdown",
   "metadata": {},
   "source": [
    "# Create and train the SVM Models for Binary Tree classification #"
   ]
  },
  {
   "cell_type": "code",
   "execution_count": 36,
   "metadata": {},
   "outputs": [
    {
     "name": "stderr",
     "output_type": "stream",
     "text": [
      "/Users/sidharthgurbani/anaconda3/lib/python3.7/site-packages/sklearn/utils/validation.py:724: DataConversionWarning: A column-vector y was passed when a 1d array was expected. Please change the shape of y to (n_samples, ), for example using ravel().\n",
      "  y = column_or_1d(y, warn=True)\n",
      "/Users/sidharthgurbani/anaconda3/lib/python3.7/site-packages/sklearn/utils/validation.py:724: DataConversionWarning: A column-vector y was passed when a 1d array was expected. Please change the shape of y to (n_samples, ), for example using ravel().\n",
      "  y = column_or_1d(y, warn=True)\n",
      "/Users/sidharthgurbani/anaconda3/lib/python3.7/site-packages/sklearn/utils/validation.py:724: DataConversionWarning: A column-vector y was passed when a 1d array was expected. Please change the shape of y to (n_samples, ), for example using ravel().\n",
      "  y = column_or_1d(y, warn=True)\n",
      "/Users/sidharthgurbani/anaconda3/lib/python3.7/site-packages/sklearn/utils/validation.py:724: DataConversionWarning: A column-vector y was passed when a 1d array was expected. Please change the shape of y to (n_samples, ), for example using ravel().\n",
      "  y = column_or_1d(y, warn=True)\n"
     ]
    }
   ],
   "source": [
    "\n",
    "start_train_time_bt = time.time()\n",
    "\n",
    "# For Class 1,2,3 and 4,5\n",
    "svm12345 = svm.SVC(kernel='linear')\n",
    "svm12345.fit(X_train12345, y_train12345)\n",
    "\n",
    "# For Class 1,2 and 3\n",
    "svm123 = svm.SVC(kernel='linear')\n",
    "svm123.fit(X_train123, y_train123)\n",
    "\n",
    "# For Class 4 and 5\n",
    "svm45 = svm.SVC(kernel='linear')\n",
    "svm45.fit(X_train45, y_train45)\n",
    "\n",
    "# For Class 1 and 2\n",
    "svm12 = svm.SVC(kernel='linear')\n",
    "svm12.fit(X_train12, y_train12)\n",
    "\n",
    "end_train_time_bt = time.time()\n",
    "total_train_time_bt = end_train_time_bt - start_train_time_bt"
   ]
  },
  {
   "cell_type": "markdown",
   "metadata": {},
   "source": [
    "# Testing Binary Tree SVM model for classification #"
   ]
  },
  {
   "cell_type": "code",
   "execution_count": 37,
   "metadata": {},
   "outputs": [
    {
     "name": "stdout",
     "output_type": "stream",
     "text": [
      "Number of errors are: 194 and error_rate is: 0.194\n",
      "Total time for training of Binary Tree method is: 0.14087486267089844\n",
      "Total time for testing of Binary Tree method is: 0.14333105087280273\n"
     ]
    }
   ],
   "source": [
    "\n",
    "y_test_hat_bt = np.zeros((y_test.shape))\n",
    "\n",
    "start_test_time_bt = time.time()\n",
    "\n",
    "for i in range(y_test.shape[0]):\n",
    "     # classifier for 123 v/s 45\n",
    "    if svm12345.predict(X_test[i:i+1]) == 1:\n",
    "        \n",
    "        # classifier for 4 v/s 5\n",
    "        if svm45.predict(X_test[i:i+1]) == 1:\n",
    "            y_test_hat_bt[i] = 5\n",
    "        else:\n",
    "            y_test_hat_bt[i] = 4\n",
    "    else:\n",
    "        # classifier for 12 v/s 3\n",
    "        if svm123.predict(X_test[i:i+1]) == 1:\n",
    "            y_test_hat_bt[i] = 3\n",
    "        else:\n",
    "            # classifier for 1 v/s 2\n",
    "            if svm12.predict(X_test[i:i+1]) == 1:\n",
    "                y_test_hat_bt[i] = 2\n",
    "            else:\n",
    "                y_test_hat_bt[i] = 1\n",
    "                \n",
    "\n",
    "end_test_time_bt = time.time()\n",
    "total_test_time_bt = end_test_time_bt - start_test_time_bt\n",
    "\n",
    "\n",
    "error_vec_bt = [0 if i[0]==i[1] else 1 for i in np.hstack((y_test_hat_bt, y_test))]\n",
    "\n",
    "error_rate_bt = sum(error_vec_bt)/y_test_hat_bt.shape[0]\n",
    "\n",
    "print(\"Number of errors are: \" + str(sum(error_vec_bt)) + \" and error_rate is: \" + str(error_rate_bt))\n",
    "print(\"Total time for training of Binary Tree method is: \" + str(total_train_time_bt))\n",
    "print(\"Total time for testing of Binary Tree method is: \" + str(total_test_time_bt))"
   ]
  }
 ],
 "metadata": {
  "kernelspec": {
   "display_name": "Python 3",
   "language": "python",
   "name": "python3"
  },
  "language_info": {
   "codemirror_mode": {
    "name": "ipython",
    "version": 3
   },
   "file_extension": ".py",
   "mimetype": "text/x-python",
   "name": "python",
   "nbconvert_exporter": "python",
   "pygments_lexer": "ipython3",
   "version": "3.7.3"
  }
 },
 "nbformat": 4,
 "nbformat_minor": 2
}
