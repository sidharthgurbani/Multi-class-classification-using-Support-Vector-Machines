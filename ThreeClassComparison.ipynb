{
 "cells": [
  {
   "cell_type": "code",
   "execution_count": 280,
   "metadata": {},
   "outputs": [],
   "source": [
    "import numpy as np\n",
    "from sklearn import preprocessing, neighbors, svm\n",
    "from sklearn.model_selection import cross_validate, train_test_split\n",
    "import pandas as pd\n",
    "from scipy.io import loadmat, savemat\n",
    "import time\n",
    "%matplotlib inline\n",
    "import matplotlib.pyplot as plt"
   ]
  },
  {
   "cell_type": "code",
   "execution_count": 281,
   "metadata": {},
   "outputs": [],
   "source": [
    "# Load the dataset file\n",
    "ThreeClassTrainingData = loadmat('ThreeClassTrainingData.mat')\n",
    "ThreeClassTestData = loadmat('ThreeClassTestData.mat')\n",
    "\n",
    "# Training and Test Dataset\n",
    "X_train = ThreeClassTrainingData['X_train']\n",
    "y_train = ThreeClassTrainingData['y_train']\n",
    "\n",
    "X_test = ThreeClassTestData['X_test']\n",
    "y_test = ThreeClassTestData['y_test']\n"
   ]
  },
  {
   "cell_type": "markdown",
   "metadata": {},
   "source": [
    "# Prepare the training data set for One-against-All #"
   ]
  },
  {
   "cell_type": "code",
   "execution_count": null,
   "metadata": {},
   "outputs": [],
   "source": [
    "\n",
    "# Split the data set into training as three sets of classes : (1&(2,3), 2&(1,3) and 3&(1,2))\n",
    "X_train1 = np.vstack((X_train[:240,:], X_train[240:480,:], X_train[480:,:]))\n",
    "X_train2 = np.vstack((X_train[240:480,:], X_train[:240,:], X_train[480:,:]))\n",
    "X_train3 = np.vstack((X_train[480:,:], X_train[:240,:], X_train[240:480,:]))\n",
    "\n",
    "y_train_mod = np.vstack((np.full((240,1), -1), np.ones((480,1))))\n"
   ]
  },
  {
   "cell_type": "markdown",
   "metadata": {},
   "source": [
    "# Prepare the training data set for One-against-One #"
   ]
  },
  {
   "cell_type": "code",
   "execution_count": null,
   "metadata": {},
   "outputs": [],
   "source": [
    "## For One-against-One ##\n",
    "\n",
    "# Split the data set into training as th three sets of classes : (1&2, 2&3 and 1&3)\n",
    "X_train12 = np.vstack((X_train[:240,:], X_train[240:480,:]))\n",
    "X_train23 = np.vstack((X_train[240:480,:], X_train[480:,:]))\n",
    "X_train13 = np.vstack((X_train[:240,:], X_train[480:,:]))\n",
    "\n",
    "y_train12 = np.sign(np.vstack((y_train[:240,:], y_train[240:480,:])) - 1.5*np.ones((480,1)))\n",
    "y_train23 = np.sign(np.vstack((y_train[240:480,:], y_train[480:,:])) - 2.5*np.ones((480,1)))\n",
    "y_train13 = np.sign(np.vstack((y_train[:240,:], y_train[480:,:])) - 2*np.ones((480,1)))"
   ]
  },
  {
   "cell_type": "markdown",
   "metadata": {},
   "source": [
    "# Plot of the training data #"
   ]
  },
  {
   "cell_type": "code",
   "execution_count": 286,
   "metadata": {},
   "outputs": [
    {
     "data": {
      "text/plain": [
       "<matplotlib.legend.Legend at 0x1a1a57c588>"
      ]
     },
     "execution_count": 286,
     "metadata": {},
     "output_type": "execute_result"
    },
    {
     "data": {
      "image/png": "[encoded data removed]",
      "text/plain": [
       "<Figure size 432x288 with 1 Axes>"
      ]
     },
     "metadata": {
      "needs_background": "light"
     },
     "output_type": "display_data"
    }
   ],
   "source": [
    "\n",
    "plt.plot(X_train[:240,0], X_train[:240,1], 'o', label='Class label = 1', color='yellow')\n",
    "plt.plot(X_train[240:480,0], X_train[240:480,1], 'o', label='Class label = 2', color='red')\n",
    "plt.plot(X_train[480:,0], X_train[480:,1], 'o', label='Class label = 3', color='blue')\n",
    "plt.xlabel(\"Training data\")\n",
    "plt.legend(numpoints=1)"
   ]
  },
  {
   "cell_type": "markdown",
   "metadata": {},
   "source": [
    "# Create and train the SVM models for One-against-All method #"
   ]
  },
  {
   "cell_type": "code",
   "execution_count": 282,
   "metadata": {},
   "outputs": [
    {
     "name": "stderr",
     "output_type": "stream",
     "text": [
      "/Users/sidharthgurbani/anaconda3/lib/python3.7/site-packages/sklearn/utils/validation.py:724: DataConversionWarning: A column-vector y was passed when a 1d array was expected. Please change the shape of y to (n_samples, ), for example using ravel().\n",
      "  y = column_or_1d(y, warn=True)\n",
      "/Users/sidharthgurbani/anaconda3/lib/python3.7/site-packages/sklearn/utils/validation.py:724: DataConversionWarning: A column-vector y was passed when a 1d array was expected. Please change the shape of y to (n_samples, ), for example using ravel().\n",
      "  y = column_or_1d(y, warn=True)\n",
      "/Users/sidharthgurbani/anaconda3/lib/python3.7/site-packages/sklearn/utils/validation.py:724: DataConversionWarning: A column-vector y was passed when a 1d array was expected. Please change the shape of y to (n_samples, ), for example using ravel().\n",
      "  y = column_or_1d(y, warn=True)\n"
     ]
    }
   ],
   "source": [
    "\n",
    "start_train_time_ova = time.time()\n",
    "\n",
    "# For Class 1 and (2,3)\n",
    "svm1 = svm.SVC(kernel='linear')\n",
    "svm1.fit(X_train1, y_train_mod)\n",
    "\n",
    "# For Class 2 and (1,3)\n",
    "svm2 = svm.SVC(kernel='linear')\n",
    "svm2.fit(X_train2, y_train_mod)\n",
    "\n",
    "# For Class 3 and (1,2)\n",
    "svm3 = svm.SVC(kernel='linear')\n",
    "svm3.fit(X_train3, y_train_mod)\n",
    "\n",
    "end_train_time_ova = time.time()\n",
    "\n",
    "total_train_time_ova = end_train_time_ova - start_train_time_ova"
   ]
  },
  {
   "cell_type": "markdown",
   "metadata": {},
   "source": [
    "# Create and train the SVM models for One-against-One method #"
   ]
  },
  {
   "cell_type": "code",
   "execution_count": 283,
   "metadata": {},
   "outputs": [
    {
     "name": "stderr",
     "output_type": "stream",
     "text": [
      "/Users/sidharthgurbani/anaconda3/lib/python3.7/site-packages/sklearn/utils/validation.py:724: DataConversionWarning: A column-vector y was passed when a 1d array was expected. Please change the shape of y to (n_samples, ), for example using ravel().\n",
      "  y = column_or_1d(y, warn=True)\n",
      "/Users/sidharthgurbani/anaconda3/lib/python3.7/site-packages/sklearn/utils/validation.py:724: DataConversionWarning: A column-vector y was passed when a 1d array was expected. Please change the shape of y to (n_samples, ), for example using ravel().\n",
      "  y = column_or_1d(y, warn=True)\n",
      "/Users/sidharthgurbani/anaconda3/lib/python3.7/site-packages/sklearn/utils/validation.py:724: DataConversionWarning: A column-vector y was passed when a 1d array was expected. Please change the shape of y to (n_samples, ), for example using ravel().\n",
      "  y = column_or_1d(y, warn=True)\n"
     ]
    }
   ],
   "source": [
    "\n",
    "start_train_time_ovo = time.time()\n",
    "\n",
    "# For Class 1 and 2\n",
    "svm4 = svm.SVC(kernel='linear')\n",
    "svm4.fit(X_train12, y_train12)\n",
    "\n",
    "# For Class 2 and 3\n",
    "svm5 = svm.SVC(kernel='linear')\n",
    "svm5.fit(X_train23, y_train23)\n",
    "\n",
    "# For Class 1 and 3\n",
    "svm6 = svm.SVC(kernel='linear')\n",
    "svm6.fit(X_train13, y_train13)\n",
    "\n",
    "end_train_time_ovo = time.time()\n",
    "\n",
    "total_train_time_ovo = end_train_time_ovo - start_train_time_ovo"
   ]
  },
  {
   "cell_type": "markdown",
   "metadata": {},
   "source": [
    "# Test the test data set and compare the predicted outputs with the given test labels and find the error rate #"
   ]
  },
  {
   "cell_type": "code",
   "execution_count": 284,
   "metadata": {},
   "outputs": [
    {
     "name": "stdout",
     "output_type": "stream",
     "text": [
      "Number of errors are: 61 and error_rate is: 0.3388888888888889\n",
      "Total time for training for One-against-All is: 0.024557113647460938\n",
      "Total time for testing for One-against-All is: 0.046350955963134766\n"
     ]
    }
   ],
   "source": [
    "\n",
    "start_test_time_ova = time.time()\n",
    "y_test_hat_ova = np.zeros((y_test.shape))\n",
    "\n",
    "for i in range(y_test_hat_ova.shape[0]):\n",
    "    \n",
    "    # Predicition for 1 and (2,3)\n",
    "    y_test_hat_1 = svm1.predict(X_test[i:i+1])\n",
    "    \n",
    "    # Predicition for 2 and (1,3)\n",
    "    y_test_hat_2 = svm2.predict(X_test[i:i+1])\n",
    "    \n",
    "    # Predicition for 3 and (1,2)\n",
    "    y_test_hat_3 = svm3.predict(X_test[i:i+1])\n",
    "    \n",
    "    if (y_test_hat_1 == -1) and (y_test_hat_2 == 1) and (y_test_hat_3 == 1):\n",
    "        y_test_hat_ova[i,0] = 1\n",
    "    elif (y_test_hat_1 == 1) and (y_test_hat_2 == -1) and (y_test_hat_3 == 1):\n",
    "        y_test_hat_ova[i,0] = 2\n",
    "    elif (y_test_hat_1 == 1) and (y_test_hat_2 == 1 and (y_test_hat_3 == -1)):\n",
    "        y_test_hat_ova[i,0] = 3\n",
    "\n",
    "\n",
    "end_test_time_ova = time.time()\n",
    "\n",
    "total_test_time_ova = end_test_time_ova - start_test_time_ova\n",
    "        \n",
    "error_vec_ova = [0 if i[0]==i[1] else 1 for i in np.hstack((y_test_hat_ova, y_test))]\n",
    "\n",
    "error_rate_ova = sum(error_vec_ova)/y_test_hat_ova.shape[0]\n",
    "\n",
    "print(\"Number of errors are: \" + str(sum(error_vec_ova)) + \" and error_rate is: \" + str(error_rate_ova))\n",
    "print(\"Total time for training for One-against-All is: \" + str(total_train_time_ova))\n",
    "print(\"Total time for testing for One-against-All is: \" + str(total_test_time_ova))"
   ]
  },
  {
   "cell_type": "markdown",
   "metadata": {},
   "source": [
    "# Test the test data set and compare the predicted outputs with the given test labels and find the error rate #"
   ]
  },
  {
   "cell_type": "code",
   "execution_count": 285,
   "metadata": {},
   "outputs": [
    {
     "name": "stdout",
     "output_type": "stream",
     "text": [
      "Number of errors are: 1 and error_rate is: 0.005555555555555556\n",
      "Total time for training for One-against-One is: 0.004694700241088867\n",
      "Total time for testing for One-against-One is: 0.04564619064331055\n"
     ]
    }
   ],
   "source": [
    "\n",
    "start_test_time_ovo = time.time()\n",
    "\n",
    "y_test_hat_ovo = np.zeros((y_test.shape))\n",
    "\n",
    "for i in range(y_test_hat_ovo.shape[0]):\n",
    "    \n",
    "    # Predicition for 1 and 2\n",
    "    y_test_hat_1 = svm4.predict(X_test[i:i+1])\n",
    "    \n",
    "    # Predicition for 2 and 3\n",
    "    y_test_hat_2 = svm5.predict(X_test[i:i+1])\n",
    "    \n",
    "    # Predicition for 1 and 3\n",
    "    y_test_hat_3 = svm6.predict(X_test[i:i+1])\n",
    "    \n",
    "    if (y_test_hat_1 == -1) and (y_test_hat_3 == -1):\n",
    "        y_test_hat_ovo[i,0] = 1\n",
    "    elif (y_test_hat_1 == 1) and (y_test_hat_2 == -1):\n",
    "        y_test_hat_ovo[i,0] = 2\n",
    "    elif (y_test_hat_2 == 1) and (y_test_hat_3 == 1):\n",
    "        y_test_hat_ovo[i,0] = 3\n",
    "\n",
    "end_test_time_ovo = time.time()\n",
    "\n",
    "total_test_time_ovo = end_test_time_ovo - start_test_time_ovo\n",
    "\n",
    "error_vec_ovo = [0 if i[0]==i[1] else 1 for i in np.hstack((y_test_hat_ovo, y_test))]\n",
    "\n",
    "error_rate_ovo = sum(error_vec_ovo)/y_test_hat_ovo.shape[0]\n",
    "\n",
    "print(\"Number of errors are: \" + str(sum(error_vec_ovo)) + \" and error_rate is: \" + str(error_rate_ovo))\n",
    "print(\"Total time for training for One-against-One is: \" + str(total_train_time_ovo))\n",
    "print(\"Total time for testing for One-against-One is: \" + str(total_test_time_ovo))"
   ]
  }
 ],
 "metadata": {
  "kernelspec": {
   "display_name": "Python 3",
   "language": "python",
   "name": "python3"
  },
  "language_info": {
   "codemirror_mode": {
    "name": "ipython",
    "version": 3
   },
   "file_extension": ".py",
   "mimetype": "text/x-python",
   "name": "python",
   "nbconvert_exporter": "python",
   "pygments_lexer": "ipython3",
   "version": "3.7.3"
  }
 },
 "nbformat": 4,
 "nbformat_minor": 2
}
